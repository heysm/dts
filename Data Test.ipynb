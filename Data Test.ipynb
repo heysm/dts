{
 "cells": [
  {
   "cell_type": "code",
   "execution_count": 1,
   "id": "3ca82e6b",
   "metadata": {},
   "outputs": [],
   "source": [
    "import pickle"
   ]
  },
  {
   "cell_type": "code",
   "execution_count": 2,
   "id": "d1ebc985",
   "metadata": {},
   "outputs": [],
   "source": [
    "filename = \"PKL Datas\\S2.pkl\""
   ]
  },
  {
   "cell_type": "code",
   "execution_count": 3,
   "id": "a6bf5e77",
   "metadata": {},
   "outputs": [],
   "source": [
    "infile = open(filename,'rb')\n",
    "new_dict = pickle.load(infile, encoding= 'latin1')\n",
    "infile.close()"
   ]
  },
  {
   "cell_type": "code",
   "execution_count": 4,
   "id": "d5b8f32d",
   "metadata": {},
   "outputs": [
    {
     "data": {
      "text/plain": [
       "{'signal': {'chest': {'ACC': array([[ 0.95539999, -0.222     , -0.55799997],\n",
       "          [ 0.92579997, -0.2216    , -0.55379999],\n",
       "          [ 0.90820003, -0.21960002, -0.53920001],\n",
       "          ...,\n",
       "          [ 0.87179995, -0.12379998, -0.30419999],\n",
       "          [ 0.87300003, -0.12339997, -0.30260003],\n",
       "          [ 0.87020004, -0.12199998, -0.30220002]]),\n",
       "   'ECG': array([[ 0.02142334],\n",
       "          [ 0.02032471],\n",
       "          [ 0.01652527],\n",
       "          ...,\n",
       "          [-0.00544739],\n",
       "          [ 0.00013733],\n",
       "          [ 0.0040741 ]]),\n",
       "   'EMG': array([[-0.00444031],\n",
       "          [ 0.00434875],\n",
       "          [ 0.00517273],\n",
       "          ...,\n",
       "          [-0.01716614],\n",
       "          [-0.02897644],\n",
       "          [-0.02357483]]),\n",
       "   'EDA': array([[5.25054932],\n",
       "          [5.26733398],\n",
       "          [5.24330139],\n",
       "          ...,\n",
       "          [0.36048889],\n",
       "          [0.36582947],\n",
       "          [0.365448  ]]),\n",
       "   'Temp': array([[30.120758],\n",
       "          [30.129517],\n",
       "          [30.138214],\n",
       "          ...,\n",
       "          [31.459229],\n",
       "          [31.484283],\n",
       "          [31.456268]], dtype=float32),\n",
       "   'Resp': array([[-1.14898682],\n",
       "          [-1.12457275],\n",
       "          [-1.15203857],\n",
       "          ...,\n",
       "          [-1.10321045],\n",
       "          [-1.08642578],\n",
       "          [-1.09710693]])},\n",
       "  'wrist': {'ACC': array([[ 62., -21., 107.],\n",
       "          [ 66.,  13.,  53.],\n",
       "          [ 41.,   9.,  15.],\n",
       "          ...,\n",
       "          [ 41.,  25.,  11.],\n",
       "          [ 39.,  27.,  22.],\n",
       "          [ 56.,  26.,  10.]]),\n",
       "   'BVP': array([[-59.37],\n",
       "          [-53.42],\n",
       "          [-44.4 ],\n",
       "          ...,\n",
       "          [ 18.26],\n",
       "          [ 18.68],\n",
       "          [ 19.71]]),\n",
       "   'EDA': array([[1.138257],\n",
       "          [1.125444],\n",
       "          [1.011405],\n",
       "          ...,\n",
       "          [0.059208],\n",
       "          [0.073303],\n",
       "          [0.045113]]),\n",
       "   'TEMP': array([[35.41],\n",
       "          [35.41],\n",
       "          [35.41],\n",
       "          ...,\n",
       "          [34.23],\n",
       "          [34.23],\n",
       "          [34.23]])}},\n",
       " 'label': array([0, 0, 0, ..., 0, 0, 0]),\n",
       " 'subject': 'S2'}"
      ]
     },
     "execution_count": 4,
     "metadata": {},
     "output_type": "execute_result"
    }
   ],
   "source": [
    "new_dict"
   ]
  },
  {
   "cell_type": "code",
   "execution_count": 5,
   "id": "369d0a82",
   "metadata": {},
   "outputs": [
    {
     "data": {
      "text/plain": [
       "(4255300,)"
      ]
     },
     "execution_count": 5,
     "metadata": {},
     "output_type": "execute_result"
    }
   ],
   "source": [
    "new_dict['label'].shape"
   ]
  },
  {
   "cell_type": "code",
   "execution_count": 6,
   "id": "efa96cd0",
   "metadata": {},
   "outputs": [
    {
     "data": {
      "text/plain": [
       "dict_keys(['signal', 'label', 'subject'])"
      ]
     },
     "execution_count": 6,
     "metadata": {},
     "output_type": "execute_result"
    }
   ],
   "source": [
    "new_dict.keys()"
   ]
  },
  {
   "cell_type": "code",
   "execution_count": 7,
   "id": "1756a299",
   "metadata": {},
   "outputs": [
    {
     "data": {
      "text/plain": [
       "dict_keys(['chest', 'wrist'])"
      ]
     },
     "execution_count": 7,
     "metadata": {},
     "output_type": "execute_result"
    }
   ],
   "source": [
    "new_dict['signal'].keys()"
   ]
  },
  {
   "cell_type": "code",
   "execution_count": 8,
   "id": "c3c867bf",
   "metadata": {},
   "outputs": [
    {
     "data": {
      "text/plain": [
       "(4255300, 1)"
      ]
     },
     "execution_count": 8,
     "metadata": {},
     "output_type": "execute_result"
    }
   ],
   "source": [
    "new_dict['signal']['chest']['ECG'].shape"
   ]
  },
  {
   "cell_type": "markdown",
   "id": "971d277e",
   "metadata": {},
   "source": [
    "## Data 3"
   ]
  },
  {
   "cell_type": "code",
   "execution_count": 54,
   "id": "123c2174",
   "metadata": {},
   "outputs": [
    {
     "data": {
      "text/plain": [
       "(4545100,)"
      ]
     },
     "execution_count": 54,
     "metadata": {},
     "output_type": "execute_result"
    }
   ],
   "source": [
    "filename = \"PKL Datas\\S3.pkl\"\n",
    "infile = open(filename,'rb')\n",
    "new_dict = pickle.load(infile, encoding= 'latin1')\n",
    "infile.close()\n",
    "new_dict['label'].shape"
   ]
  },
  {
   "cell_type": "code",
   "execution_count": 55,
   "id": "ff0b6f31",
   "metadata": {},
   "outputs": [
    {
     "data": {
      "text/plain": [
       "45"
      ]
     },
     "execution_count": 55,
     "metadata": {},
     "output_type": "execute_result"
    }
   ],
   "source": [
    "import gc\n",
    "gc.collect()"
   ]
  }
 ],
 "metadata": {
  "kernelspec": {
   "display_name": "Python 3",
   "language": "python",
   "name": "python3"
  },
  "language_info": {
   "codemirror_mode": {
    "name": "ipython",
    "version": 3
   },
   "file_extension": ".py",
   "mimetype": "text/x-python",
   "name": "python",
   "nbconvert_exporter": "python",
   "pygments_lexer": "ipython3",
   "version": "3.8.8"
  }
 },
 "nbformat": 4,
 "nbformat_minor": 5
}
